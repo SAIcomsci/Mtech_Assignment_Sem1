{
 "cells": [
  {
   "cell_type": "code",
   "execution_count": 1,
   "id": "11213b63",
   "metadata": {
    "scrolled": true
   },
   "outputs": [
    {
     "name": "stdout",
     "output_type": "stream",
     "text": [
      "Defaulting to user installation because normal site-packages is not writeable\n",
      "Requirement already satisfied: sympy in /home/sai/.local/lib/python3.10/site-packages (1.11.1)\n",
      "Requirement already satisfied: mpmath>=0.19 in /home/sai/.local/lib/python3.10/site-packages (from sympy) (1.2.1)\n"
     ]
    }
   ],
   "source": [
    "import numpy as np\n",
    "import pandas as pd\n",
    "! pip install sympy\n",
    "from sympy import *\n",
    "from scipy.linalg import lu "
   ]
  },
  {
   "cell_type": "markdown",
   "id": "3fad4d3a",
   "metadata": {},
   "source": [
    "# a. Read a matrix A from a csv file and a vector b from another csv file "
   ]
  },
  {
   "cell_type": "code",
   "execution_count": 2,
   "id": "7d34d721",
   "metadata": {},
   "outputs": [
    {
     "name": "stdout",
     "output_type": "stream",
     "text": [
      "   Unnamed: 0  Unnamed: 1  Unnamed: 2\n",
      "0           4           1          -1\n",
      "1           2           5          -2\n",
      "2           1           1           2\n"
     ]
    }
   ],
   "source": [
    "matrix=pd.read_csv(\"/home/sai/Documents/Matrix.csv\")\n",
    "print(matrix)"
   ]
  },
  {
   "cell_type": "code",
   "execution_count": 4,
   "id": "55c70b14",
   "metadata": {},
   "outputs": [
    {
     "name": "stdout",
     "output_type": "stream",
     "text": [
      "[[ 4  1 -1]\n",
      " [ 2  5 -2]\n",
      " [ 1  1  2]]\n"
     ]
    }
   ],
   "source": [
    "mat=np.array(matrix)\n",
    "print(mat)"
   ]
  },
  {
   "cell_type": "markdown",
   "id": "7fec2166",
   "metadata": {},
   "source": [
    "# b. Perform LU decomposition for square matrix"
   ]
  },
  {
   "cell_type": "code",
   "execution_count": 6,
   "id": "625eaa2e",
   "metadata": {},
   "outputs": [
    {
     "name": "stdout",
     "output_type": "stream",
     "text": [
      "The L matrix is:\n",
      "[[1.         0.         0.        ]\n",
      " [0.5        1.         0.        ]\n",
      " [0.25       0.16666667 1.        ]]\n",
      "\n",
      "The U matrix is:\n",
      "[[ 4.   1.  -1. ]\n",
      " [ 0.   4.5 -1.5]\n",
      " [ 0.   0.   2.5]]\n"
     ]
    },
    {
     "data": {
      "text/plain": [
       "True"
      ]
     },
     "execution_count": 6,
     "metadata": {},
     "output_type": "execute_result"
    }
   ],
   "source": [
    "#  Do the matrix factorization.  In our case, the permutation matrix P is the identity\n",
    "P, L, U = lu(mat)\n",
    "print('The L matrix is:')\n",
    "print(L)\n",
    "print()\n",
    "print('The U matrix is:')\n",
    "print(U)\n",
    "\n",
    "#  Show the A = PLA\n",
    "np.allclose(L @ U, mat)"
   ]
  },
  {
   "cell_type": "markdown",
   "id": "eae42b9e",
   "metadata": {},
   "source": [
    "#   Solve the equation Ax=b "
   ]
  },
  {
   "cell_type": "code",
   "execution_count": 7,
   "id": "3d91539e",
   "metadata": {},
   "outputs": [
    {
     "name": "stdout",
     "output_type": "stream",
     "text": [
      "Enter number of row and column3\n",
      "enter the  co efficient of matrix: A\n",
      "8\n",
      "3\n",
      "-2\n",
      "-4\n",
      "7\n",
      "5\n",
      "3\n",
      "4\n",
      "-12\n",
      "enter the  of matrix: b\n",
      "9\n",
      "15\n",
      "35\n",
      "A: [[  8   3  -2]\n",
      " [ -4   7   5]\n",
      " [  3   4 -12]]\n",
      "--------------------\n",
      "b: [ 9 15 35]\n",
      "--------------------\n",
      "X: [-0.58226371  3.22870478 -1.98599767]\n"
     ]
    }
   ],
   "source": [
    "n=int(input(\"Enter number of row and column\"))\n",
    "print(\"enter the  co efficient of matrix: A\")\n",
    "A=[[int(input())for i in range(n)]for j in range(n)]\n",
    "print(\"enter the  of matrix: b\")\n",
    "b=[int(input()) for i in range(n)]\n",
    "A=np.array(A)\n",
    "b=np.array(b)\n",
    "print(\"A:\", A)\n",
    "print(\"--------------------\")\n",
    "print(\"b:\",b)\n",
    "print(\"--------------------\")\n",
    "\n",
    "#solve the AX=b equation\n",
    "x = np.linalg.solve(A, b)\n",
    "print(\"X:\",x)"
   ]
  },
  {
   "cell_type": "markdown",
   "id": "313d421e",
   "metadata": {},
   "source": [
    "#   Do the diagonalization of a matrix (assume it is symmetric)"
   ]
  },
  {
   "cell_type": "code",
   "execution_count": 8,
   "id": "9e36adff",
   "metadata": {},
   "outputs": [
    {
     "name": "stdout",
     "output_type": "stream",
     "text": [
      "Matrix([[4, 1, -1], [2, 5, -2], [1, 1, 2]])\n",
      "Matrix([[3, 0, 0], [0, 3, 0], [0, 0, 5]])\n"
     ]
    }
   ],
   "source": [
    "#diagonilization of a matrix\n",
    "M=Matrix(mat)\n",
    "print(M)\n",
    "P, D = M.diagonalize()  \n",
    "print(D)"
   ]
  },
  {
   "cell_type": "markdown",
   "id": "11d6c346",
   "metadata": {},
   "source": [
    "# Find all the eigenpairs of A"
   ]
  },
  {
   "cell_type": "code",
   "execution_count": 10,
   "id": "b7cf9ac2",
   "metadata": {},
   "outputs": [
    {
     "name": "stdout",
     "output_type": "stream",
     "text": [
      " Eigen Values are [5. 3. 3.]\n",
      "Eigen Vactors are [[ 0.40824829  0.40824829  0.20788451]\n",
      " [ 0.81649658 -0.81649658  0.57986183]\n",
      " [ 0.40824829 -0.40824829  0.78774634]]\n"
     ]
    }
   ],
   "source": [
    "#calculate eigenpairs\n",
    "valus,vectors=np.linalg.eig(mat)\n",
    "print(\" Eigen Values are\", valus)\n",
    "print(\"Eigen Vactors are\",vectors)"
   ]
  },
  {
   "cell_type": "code",
   "execution_count": null,
   "id": "a1e60d45",
   "metadata": {},
   "outputs": [],
   "source": []
  }
 ],
 "metadata": {
  "kernelspec": {
   "display_name": "Python 3 (ipykernel)",
   "language": "python",
   "name": "python3"
  },
  "language_info": {
   "codemirror_mode": {
    "name": "ipython",
    "version": 3
   },
   "file_extension": ".py",
   "mimetype": "text/x-python",
   "name": "python",
   "nbconvert_exporter": "python",
   "pygments_lexer": "ipython3",
   "version": "3.10.6"
  }
 },
 "nbformat": 4,
 "nbformat_minor": 5
}
