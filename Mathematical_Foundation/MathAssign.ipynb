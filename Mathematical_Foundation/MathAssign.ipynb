{
 "cells": [
  {
   "cell_type": "code",
   "execution_count": 1,
   "id": "11213b63",
   "metadata": {
    "scrolled": true
   },
   "outputs": [
    {
     "name": "stdout",
     "output_type": "stream",
     "text": [
      "Defaulting to user installation because normal site-packages is not writeable\n",
      "Requirement already satisfied: sympy in /home/sai/.local/lib/python3.10/site-packages (1.11.1)\n",
      "Requirement already satisfied: mpmath>=0.19 in /home/sai/.local/lib/python3.10/site-packages (from sympy) (1.2.1)\n"
     ]
    }
   ],
   "source": [
    "import numpy as np\n",
    "import pandas as pd\n",
    "! pip install sympy\n",
    "from sympy import *\n",
    "from scipy.linalg import lu "
   ]
  },
  {
   "cell_type": "markdown",
   "id": "3fad4d3a",
   "metadata": {},
   "source": [
    "# a. Read a matrix A from a csv file and a vector b from another csv file "
   ]
  },
  {
   "cell_type": "code",
   "execution_count": 2,
   "id": "7d34d721",
   "metadata": {},
   "outputs": [
    {
     "name": "stdout",
     "output_type": "stream",
     "text": [
      "A:---------------\n",
      "   1  2   3\n",
      "0  8  3  -2\n",
      "1 -4  7   5\n",
      "2  3  4 -12\n",
      "b:---------------\n",
      "   0  Unnamed: 1  Unnamed: 2\n",
      "0  9          15          35\n"
     ]
    }
   ],
   "source": [
    "matrix=pd.read_csv('/home/sai/Documents/Matrix.csv')\n",
    "A=pd.read_csv(\"/home/sai/Documents/A.csv\")\n",
    "b=pd.read_csv(\"/home/sai/Documents/b.csv\")\n",
    "#print(\"matrix:---------------\")\n",
    "#print(matrix)\n",
    "print(\"A:---------------\")\n",
    "print(A)\n",
    "print(\"b:---------------\")\n",
    "print(b)"
   ]
  },
  {
   "cell_type": "markdown",
   "id": "7fec2166",
   "metadata": {},
   "source": [
    "# b. Perform LU decomposition for square matrix"
   ]
  },
  {
   "cell_type": "code",
   "execution_count": 3,
   "id": "625eaa2e",
   "metadata": {},
   "outputs": [
    {
     "name": "stdout",
     "output_type": "stream",
     "text": [
      "The L matrix is:\n",
      "[[ 1.          0.          0.        ]\n",
      " [-0.5         1.          0.        ]\n",
      " [ 0.375       0.33823529  1.        ]]\n",
      "\n",
      "The U matrix is:\n",
      "[[  8.           3.          -2.        ]\n",
      " [  0.           8.5          4.        ]\n",
      " [  0.           0.         -12.60294118]]\n",
      "A: [[  8.   3.  -2.]\n",
      " [ -4.   7.   5.]\n",
      " [  3.   4. -12.]]\n"
     ]
    }
   ],
   "source": [
    "#  Do the matrix factorization.  In our case, the permutation matrix P is the identity\n",
    "P, L, U = lu(A)\n",
    "print('The L matrix is:')\n",
    "print(L)\n",
    "print()\n",
    "print('The U matrix is:')\n",
    "print(U)\n",
    "\n",
    "#  Show the A = PLA\n",
    "res=np.dot(P,L)\n",
    "a=np.dot(res,U)\n",
    "print(\"A:\", a)\n"
   ]
  },
  {
   "cell_type": "markdown",
   "id": "eae42b9e",
   "metadata": {},
   "source": [
    "#   c.  Solve the equation Ax=b and check whether there are 0,1 or infinitely many solutions\n"
   ]
  },
  {
   "cell_type": "code",
   "execution_count": 4,
   "id": "897edeeb",
   "metadata": {},
   "outputs": [
    {
     "name": "stdout",
     "output_type": "stream",
     "text": [
      "A: [[  8   3  -2]\n",
      " [ -4   7   5]\n",
      " [  3   4 -12]]\n",
      "--------------------\n",
      "b: [[ 9]\n",
      " [15]\n",
      " [35]]\n",
      "--------------------\n",
      "The system has a unique solution\n",
      ".\n",
      "solve the AX=b equation------------------\n",
      "\n",
      "X: [[-0.58226371]\n",
      " [ 3.22870478]\n",
      " [-1.98599767]]\n"
     ]
    }
   ],
   "source": [
    "A=np.array(A)\n",
    "b=np.array(b).T\n",
    "print(\"A:\", A)\n",
    "print(\"--------------------\")\n",
    "print(\"b:\",b)\n",
    "print(\"--------------------\")\n",
    "\n",
    "rank_A=np.linalg.matrix_rank(A)\n",
    "\n",
    "aug_A=np.column_stack((A,b))\n",
    "\n",
    "rank_aug_A=np.linalg.matrix_rank(aug_A)\n",
    "#print(rank_aug_A)\n",
    "#print(type(rank_aug_A))\n",
    "\n",
    "if (rank_A==rank_aug_A) and (rank_aug_A==np.shape(A)[0]):\n",
    "    print(\"The system has a unique solution\\n.\")\n",
    "    \n",
    "elif (rank_A==rank_aug_A) and (rank_aug_A< np.shape(A)[0]):\n",
    "    print(\"The system has ∞-many solutions.\")\n",
    "    \n",
    "if(rank_A < rank_aug_A):\n",
    "    print(\" The system is inconsistent..\")\n",
    "\n",
    "print(\"solve the AX=b equation------------------\\n\")\n",
    "x = np.linalg.solve(A, b)\n",
    "print(\"X:\",x)"
   ]
  },
  {
   "cell_type": "markdown",
   "id": "313d421e",
   "metadata": {},
   "source": [
    "#   d.Do the diagonalization of a matrix (assume it is symmetric)"
   ]
  },
  {
   "cell_type": "code",
   "execution_count": 7,
   "id": "9e36adff",
   "metadata": {},
   "outputs": [
    {
     "name": "stdout",
     "output_type": "stream",
     "text": [
      "Matrix([[8, 3, -2], [-4, 7, 5], [3, 4, -12]])\n",
      "Matrix([[1 - 129/((-1/2 - sqrt(3)*I/2)*(27*sqrt(213413)/2 + 19683/2)**(1/3)) - (-1/2 - sqrt(3)*I/2)*(27*sqrt(213413)/2 + 19683/2)**(1/3)/3, 0, 0], [0, 1 - (-1/2 + sqrt(3)*I/2)*(27*sqrt(213413)/2 + 19683/2)**(1/3)/3 - 129/((-1/2 + sqrt(3)*I/2)*(27*sqrt(213413)/2 + 19683/2)**(1/3)), 0], [0, 0, -(27*sqrt(213413)/2 + 19683/2)**(1/3)/3 - 129/(27*sqrt(213413)/2 + 19683/2)**(1/3) + 1]])\n"
     ]
    }
   ],
   "source": [
    "#diagonilization of a matrix\n",
    "M=Matrix(A)\n",
    "print(M)\n",
    "P, D = M.diagonalize()  \n",
    "print(D)"
   ]
  },
  {
   "cell_type": "markdown",
   "id": "ff1f4c3b",
   "metadata": {},
   "source": [
    "# e. Give exponential, sine and sigmoid functions on A"
   ]
  },
  {
   "cell_type": "code",
   "execution_count": null,
   "id": "a77343bb",
   "metadata": {},
   "outputs": [],
   "source": [
    "def sigmoid(x):\n",
    "    return(1/(1 + np.exp(-x)))\n",
    "def exponenstial(x):\n",
    "    return np.exp(x)\n",
    "def sinfun(x):\n",
    "    return np.sin(x)\n",
    "\n",
    "sig=[sigmoid(i) for i in A]\n",
    "expo=[exponenstial(i) for i in A]\n",
    "sinf=[sinfun(i) for i in A]\n",
    "print(\"sigmoid function----------\")\n",
    "print(np.array(sig))\n",
    "print(\"exponential function----------\")\n",
    "print(np.array(expo))\n",
    "print(\"sin function----------\")\n",
    "print(np.array(sinf))\n"
   ]
  },
  {
   "cell_type": "markdown",
   "id": "11d6c346",
   "metadata": {},
   "source": [
    "# f.Find all the eigenpairs of A"
   ]
  },
  {
   "cell_type": "code",
   "execution_count": null,
   "id": "b7cf9ac2",
   "metadata": {},
   "outputs": [],
   "source": [
    "#calculate eigenpairs\n",
    "valus,vectors=np.linalg.eig(A)\n",
    "print(\" Eigen Values are\", valus)\n",
    "print(\"Eigen Vactors are\",vectors)"
   ]
  },
  {
   "cell_type": "code",
   "execution_count": null,
   "id": "8a5193c9",
   "metadata": {},
   "outputs": [],
   "source": []
  }
 ],
 "metadata": {
  "kernelspec": {
   "display_name": "Python 3 (ipykernel)",
   "language": "python",
   "name": "python3"
  },
  "language_info": {
   "codemirror_mode": {
    "name": "ipython",
    "version": 3
   },
   "file_extension": ".py",
   "mimetype": "text/x-python",
   "name": "python",
   "nbconvert_exporter": "python",
   "pygments_lexer": "ipython3",
   "version": "3.10.6"
  }
 },
 "nbformat": 4,
 "nbformat_minor": 5
}
