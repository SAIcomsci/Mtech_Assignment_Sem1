{
 "cells": [
  {
   "cell_type": "code",
   "execution_count": 1,
   "id": "11213b63",
   "metadata": {},
   "outputs": [],
   "source": [
    "import numpy as np\n",
    "import pandas as pd\n",
    "from scipy.linalg import lu "
   ]
  },
  {
   "cell_type": "code",
   "execution_count": 2,
   "id": "7d34d721",
   "metadata": {},
   "outputs": [
    {
     "name": "stdout",
     "output_type": "stream",
     "text": [
      "   Unnamed: 0  Unnamed: 1  Unnamed: 2\n",
      "0           4           1          -1\n",
      "1           2           5          -2\n",
      "2           1           1           2\n"
     ]
    }
   ],
   "source": [
    "matrix=pd.read_csv(\"/home/sai/Documents/Matrix.csv\")\n",
    "print(matrix)"
   ]
  },
  {
   "cell_type": "code",
   "execution_count": 3,
   "id": "55c70b14",
   "metadata": {},
   "outputs": [
    {
     "name": "stdout",
     "output_type": "stream",
     "text": [
      "[[ 4  1 -1]\n",
      " [ 2  5 -2]\n",
      " [ 1  1  2]]\n"
     ]
    }
   ],
   "source": [
    "A=np.array(matrix)\n",
    "print(A)"
   ]
  },
  {
   "cell_type": "code",
   "execution_count": 4,
   "id": "625eaa2e",
   "metadata": {},
   "outputs": [
    {
     "name": "stdout",
     "output_type": "stream",
     "text": [
      "The L matrix is:\n",
      "[[1.         0.         0.        ]\n",
      " [0.5        1.         0.        ]\n",
      " [0.25       0.16666667 1.        ]]\n",
      "\n",
      "The U matrix is:\n",
      "[[ 4.   1.  -1. ]\n",
      " [ 0.   4.5 -1.5]\n",
      " [ 0.   0.   2.5]]\n"
     ]
    },
    {
     "data": {
      "text/plain": [
       "True"
      ]
     },
     "execution_count": 4,
     "metadata": {},
     "output_type": "execute_result"
    }
   ],
   "source": [
    "#  Do the matrix factorization.  In our case, the permutation matrix P is the identity\n",
    "P, L, U = lu(A)\n",
    "print('The L matrix is:')\n",
    "print(L)\n",
    "print()\n",
    "print('The U matrix is:')\n",
    "print(U)\n",
    "\n",
    "#  Show the A = PLA\n",
    "np.allclose(L @ U, A)"
   ]
  },
  {
   "cell_type": "code",
   "execution_count": 5,
   "id": "b7cf9ac2",
   "metadata": {},
   "outputs": [
    {
     "name": "stdout",
     "output_type": "stream",
     "text": [
      " Eigen Values are [5. 3. 3.]\n",
      "Eigen Vactors are [[ 0.40824829  0.40824829  0.20788451]\n",
      " [ 0.81649658 -0.81649658  0.57986183]\n",
      " [ 0.40824829 -0.40824829  0.78774634]]\n"
     ]
    }
   ],
   "source": [
    "#calculate eigenpairs\n",
    "valus,vectors=np.linalg.eig(A)\n",
    "print(\" Eigen Values are\", valus)\n",
    "print(\"Eigen Vactors are\",vectors)"
   ]
  },
  {
   "cell_type": "code",
   "execution_count": 7,
   "id": "3637ba3f",
   "metadata": {},
   "outputs": [
    {
     "ename": "AttributeError",
     "evalue": "'numpy.ndarray' object has no attribute 'diagonalize'",
     "output_type": "error",
     "traceback": [
      "\u001b[0;31m---------------------------------------------------------------------------\u001b[0m",
      "\u001b[0;31mAttributeError\u001b[0m                            Traceback (most recent call last)",
      "Cell \u001b[0;32mIn [7], line 2\u001b[0m\n\u001b[1;32m      1\u001b[0m \u001b[38;5;66;03m#diagonilization of a matrix\u001b[39;00m\n\u001b[0;32m----> 2\u001b[0m P, D \u001b[38;5;241m=\u001b[39m A\u001b[38;5;241m.\u001b[39mdiagonalize()\n",
      "\u001b[0;31mAttributeError\u001b[0m: 'numpy.ndarray' object has no attribute 'diagonalize'"
     ]
    }
   ],
   "source": [
    "#diagonilization of a matrix\n",
    "P, D = A.diagonalize()  "
   ]
  },
  {
   "cell_type": "code",
   "execution_count": null,
   "id": "89218158",
   "metadata": {},
   "outputs": [],
   "source": []
  }
 ],
 "metadata": {
  "kernelspec": {
   "display_name": "Python 3 (ipykernel)",
   "language": "python",
   "name": "python3"
  },
  "language_info": {
   "codemirror_mode": {
    "name": "ipython",
    "version": 3
   },
   "file_extension": ".py",
   "mimetype": "text/x-python",
   "name": "python",
   "nbconvert_exporter": "python",
   "pygments_lexer": "ipython3",
   "version": "3.10.6"
  }
 },
 "nbformat": 4,
 "nbformat_minor": 5
}
